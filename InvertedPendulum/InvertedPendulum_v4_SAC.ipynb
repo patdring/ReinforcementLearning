{
  "cells": [
    {
      "cell_type": "code",
      "execution_count": 2,
      "metadata": {
        "colab": {
          "base_uri": "https://localhost:8080/"
        },
        "id": "lIWPG5P967sp",
        "outputId": "e6de1248-1fb5-4976-f9fb-6ee1d22d607a"
      },
      "outputs": [
        {
          "output_type": "stream",
          "name": "stdout",
          "text": [
            "Requirement already satisfied: gym in /usr/local/lib/python3.10/dist-packages (0.25.2)\n",
            "Requirement already satisfied: matplotlib in /usr/local/lib/python3.10/dist-packages (3.7.1)\n",
            "Requirement already satisfied: glfw in /usr/local/lib/python3.10/dist-packages (2.6.4)\n",
            "Requirement already satisfied: mujoco in /usr/local/lib/python3.10/dist-packages (3.1.1)\n",
            "Requirement already satisfied: ray[rllib] in /usr/local/lib/python3.10/dist-packages (2.9.0)\n",
            "Requirement already satisfied: numpy>=1.18.0 in /usr/local/lib/python3.10/dist-packages (from gym) (1.23.5)\n",
            "Requirement already satisfied: cloudpickle>=1.2.0 in /usr/local/lib/python3.10/dist-packages (from gym) (2.2.1)\n",
            "Requirement already satisfied: gym-notices>=0.0.4 in /usr/local/lib/python3.10/dist-packages (from gym) (0.0.8)\n",
            "Requirement already satisfied: contourpy>=1.0.1 in /usr/local/lib/python3.10/dist-packages (from matplotlib) (1.2.0)\n",
            "Requirement already satisfied: cycler>=0.10 in /usr/local/lib/python3.10/dist-packages (from matplotlib) (0.12.1)\n",
            "Requirement already satisfied: fonttools>=4.22.0 in /usr/local/lib/python3.10/dist-packages (from matplotlib) (4.46.0)\n",
            "Requirement already satisfied: kiwisolver>=1.0.1 in /usr/local/lib/python3.10/dist-packages (from matplotlib) (1.4.5)\n",
            "Requirement already satisfied: packaging>=20.0 in /usr/local/lib/python3.10/dist-packages (from matplotlib) (23.2)\n",
            "Requirement already satisfied: pillow>=6.2.0 in /usr/local/lib/python3.10/dist-packages (from matplotlib) (9.4.0)\n",
            "Requirement already satisfied: pyparsing>=2.3.1 in /usr/local/lib/python3.10/dist-packages (from matplotlib) (3.1.1)\n",
            "Requirement already satisfied: python-dateutil>=2.7 in /usr/local/lib/python3.10/dist-packages (from matplotlib) (2.8.2)\n",
            "Requirement already satisfied: absl-py in /usr/local/lib/python3.10/dist-packages (from mujoco) (1.4.0)\n",
            "Requirement already satisfied: etils[epath] in /usr/local/lib/python3.10/dist-packages (from mujoco) (1.6.0)\n",
            "Requirement already satisfied: pyopengl in /usr/local/lib/python3.10/dist-packages (from mujoco) (3.1.7)\n",
            "Requirement already satisfied: click>=7.0 in /usr/local/lib/python3.10/dist-packages (from ray[rllib]) (8.1.7)\n",
            "Requirement already satisfied: filelock in /usr/local/lib/python3.10/dist-packages (from ray[rllib]) (3.13.1)\n",
            "Requirement already satisfied: jsonschema in /usr/local/lib/python3.10/dist-packages (from ray[rllib]) (4.19.2)\n",
            "Requirement already satisfied: msgpack<2.0.0,>=1.0.0 in /usr/local/lib/python3.10/dist-packages (from ray[rllib]) (1.0.7)\n",
            "Requirement already satisfied: protobuf!=3.19.5,>=3.15.3 in /usr/local/lib/python3.10/dist-packages (from ray[rllib]) (3.20.3)\n",
            "Requirement already satisfied: pyyaml in /usr/local/lib/python3.10/dist-packages (from ray[rllib]) (6.0.1)\n",
            "Requirement already satisfied: aiosignal in /usr/local/lib/python3.10/dist-packages (from ray[rllib]) (1.3.1)\n",
            "Requirement already satisfied: frozenlist in /usr/local/lib/python3.10/dist-packages (from ray[rllib]) (1.4.1)\n",
            "Requirement already satisfied: requests in /usr/local/lib/python3.10/dist-packages (from ray[rllib]) (2.31.0)\n",
            "Requirement already satisfied: pandas in /usr/local/lib/python3.10/dist-packages (from ray[rllib]) (1.5.3)\n",
            "Requirement already satisfied: tensorboardX>=1.9 in /usr/local/lib/python3.10/dist-packages (from ray[rllib]) (2.6.2.2)\n",
            "Requirement already satisfied: pyarrow>=6.0.1 in /usr/local/lib/python3.10/dist-packages (from ray[rllib]) (10.0.1)\n",
            "Requirement already satisfied: fsspec in /usr/local/lib/python3.10/dist-packages (from ray[rllib]) (2023.6.0)\n",
            "Requirement already satisfied: dm-tree in /usr/local/lib/python3.10/dist-packages (from ray[rllib]) (0.1.8)\n",
            "Requirement already satisfied: gymnasium==0.28.1 in /usr/local/lib/python3.10/dist-packages (from ray[rllib]) (0.28.1)\n",
            "Requirement already satisfied: lz4 in /usr/local/lib/python3.10/dist-packages (from ray[rllib]) (4.3.2)\n",
            "Requirement already satisfied: scikit-image in /usr/local/lib/python3.10/dist-packages (from ray[rllib]) (0.19.3)\n",
            "Requirement already satisfied: scipy in /usr/local/lib/python3.10/dist-packages (from ray[rllib]) (1.11.4)\n",
            "Requirement already satisfied: typer in /usr/local/lib/python3.10/dist-packages (from ray[rllib]) (0.9.0)\n",
            "Requirement already satisfied: rich in /usr/local/lib/python3.10/dist-packages (from ray[rllib]) (13.7.0)\n",
            "Requirement already satisfied: jax-jumpy>=1.0.0 in /usr/local/lib/python3.10/dist-packages (from gymnasium==0.28.1->ray[rllib]) (1.0.0)\n",
            "Requirement already satisfied: typing-extensions>=4.3.0 in /usr/local/lib/python3.10/dist-packages (from gymnasium==0.28.1->ray[rllib]) (4.5.0)\n",
            "Requirement already satisfied: farama-notifications>=0.0.1 in /usr/local/lib/python3.10/dist-packages (from gymnasium==0.28.1->ray[rllib]) (0.0.4)\n",
            "Requirement already satisfied: six>=1.5 in /usr/local/lib/python3.10/dist-packages (from python-dateutil>=2.7->matplotlib) (1.16.0)\n",
            "Requirement already satisfied: importlib_resources in /usr/local/lib/python3.10/dist-packages (from etils[epath]->mujoco) (6.1.1)\n",
            "Requirement already satisfied: zipp in /usr/local/lib/python3.10/dist-packages (from etils[epath]->mujoco) (3.17.0)\n",
            "Requirement already satisfied: attrs>=22.2.0 in /usr/local/lib/python3.10/dist-packages (from jsonschema->ray[rllib]) (23.1.0)\n",
            "Requirement already satisfied: jsonschema-specifications>=2023.03.6 in /usr/local/lib/python3.10/dist-packages (from jsonschema->ray[rllib]) (2023.11.2)\n",
            "Requirement already satisfied: referencing>=0.28.4 in /usr/local/lib/python3.10/dist-packages (from jsonschema->ray[rllib]) (0.32.0)\n",
            "Requirement already satisfied: rpds-py>=0.7.1 in /usr/local/lib/python3.10/dist-packages (from jsonschema->ray[rllib]) (0.15.2)\n",
            "Requirement already satisfied: pytz>=2020.1 in /usr/local/lib/python3.10/dist-packages (from pandas->ray[rllib]) (2023.3.post1)\n",
            "Requirement already satisfied: charset-normalizer<4,>=2 in /usr/local/lib/python3.10/dist-packages (from requests->ray[rllib]) (3.3.2)\n",
            "Requirement already satisfied: idna<4,>=2.5 in /usr/local/lib/python3.10/dist-packages (from requests->ray[rllib]) (3.6)\n",
            "Requirement already satisfied: urllib3<3,>=1.21.1 in /usr/local/lib/python3.10/dist-packages (from requests->ray[rllib]) (2.0.7)\n",
            "Requirement already satisfied: certifi>=2017.4.17 in /usr/local/lib/python3.10/dist-packages (from requests->ray[rllib]) (2023.11.17)\n",
            "Requirement already satisfied: markdown-it-py>=2.2.0 in /usr/local/lib/python3.10/dist-packages (from rich->ray[rllib]) (3.0.0)\n",
            "Requirement already satisfied: pygments<3.0.0,>=2.13.0 in /usr/local/lib/python3.10/dist-packages (from rich->ray[rllib]) (2.16.1)\n",
            "Requirement already satisfied: networkx>=2.2 in /usr/local/lib/python3.10/dist-packages (from scikit-image->ray[rllib]) (3.2.1)\n",
            "Requirement already satisfied: imageio>=2.4.1 in /usr/local/lib/python3.10/dist-packages (from scikit-image->ray[rllib]) (2.31.6)\n",
            "Requirement already satisfied: tifffile>=2019.7.26 in /usr/local/lib/python3.10/dist-packages (from scikit-image->ray[rllib]) (2023.12.9)\n",
            "Requirement already satisfied: PyWavelets>=1.1.1 in /usr/local/lib/python3.10/dist-packages (from scikit-image->ray[rllib]) (1.5.0)\n",
            "Requirement already satisfied: mdurl~=0.1 in /usr/local/lib/python3.10/dist-packages (from markdown-it-py>=2.2.0->rich->ray[rllib]) (0.1.2)\n"
          ]
        }
      ],
      "source": [
        "!pip install gym matplotlib glfw mujoco ray[rllib]"
      ]
    },
    {
      "cell_type": "code",
      "source": [
        "import  ray.rllib.algorithms.sac\n",
        "\n",
        "print(dir( ray.rllib.algorithms.sac))  # This should list 'SACTrainer' if it's available"
      ],
      "metadata": {
        "colab": {
          "base_uri": "https://localhost:8080/"
        },
        "id": "LtiDF_PahvUg",
        "outputId": "b51e173d-c568-4f9f-9f26-1bf864cec668"
      },
      "execution_count": 3,
      "outputs": [
        {
          "output_type": "stream",
          "name": "stderr",
          "text": [
            "/usr/local/lib/python3.10/dist-packages/flax/configurations.py:42: DeprecationWarning: jax.config.define_bool_state is deprecated. Please use other libraries for configuration instead.\n",
            "  return jax_config.define_bool_state('flax_' + name, default, help)\n",
            "/usr/local/lib/python3.10/dist-packages/flax/linen/activation.py:36: DeprecationWarning: jax.nn.normalize is deprecated. Use jax.nn.standardize instead.\n",
            "  from jax.nn import normalize\n",
            "/usr/local/lib/python3.10/dist-packages/tensorflow_probability/python/__init__.py:57: DeprecationWarning: distutils Version classes are deprecated. Use packaging.version instead.\n",
            "  if (distutils.version.LooseVersion(tf.__version__) <\n"
          ]
        },
        {
          "output_type": "stream",
          "name": "stdout",
          "text": [
            "['RNNSAC', 'RNNSACConfig', 'RNNSACTorchPolicy', 'SAC', 'SACConfig', 'SACTFPolicy', 'SACTorchPolicy', '__all__', '__builtins__', '__cached__', '__doc__', '__file__', '__loader__', '__name__', '__package__', '__path__', '__spec__', 'rnnsac', 'rnnsac_torch_model', 'rnnsac_torch_policy', 'sac', 'sac_tf_model', 'sac_tf_policy', 'sac_torch_model', 'sac_torch_policy']\n"
          ]
        }
      ]
    },
    {
      "cell_type": "code",
      "source": [
        "import gym\n",
        "from ray.rllib.algorithms.sac import SACConfig\n",
        "import matplotlib.pyplot as plt\n",
        "import torch\n",
        "\n",
        "config_dict = {\n",
        "    \"env\": \"InvertedPendulum-v4\",\n",
        "    \"framework\": \"torch\",\n",
        "    \"num_gpus\": 1,\n",
        "    \"num_workers\": 0,\n",
        "\n",
        "    \"algorithm\": \"SAC\",\n",
        "\n",
        "    \"use_automatic_entropy_tuning\": True,\n",
        "    \"target_entropy\": \"auto\",\n",
        "\n",
        "    \"model\": {\n",
        "        \"fcnet_hiddens\": [256, 256],\n",
        "        \"fcnet_activation\": \"relu\",\n",
        "    },\n",
        "\n",
        "    \"optimization\": {\n",
        "        \"actor_learning_rate\": 0.0003,\n",
        "        \"critic_learning_rate\": 0.0003,\n",
        "        \"entropy_learning_rate\": 0.0003,\n",
        "    },\n",
        "\n",
        "    \"exploration_config\": {\n",
        "        \"type\": \"StochasticSampling\",\n",
        "    },\n",
        "\n",
        "    \"buffer_size\": 50000,  # Smaller buffer size for quicker learning\n",
        "    \"rollout_fragment_length\": 1,\n",
        "    \"train_batch_size\": 128,  # Smaller batch size for quicker updates\n",
        "    \"timesteps_per_iteration\": 1000,\n",
        "    \"learning_starts\": 1000,  # Start learning after fewer steps\n",
        "    \"gamma\": 0.99,\n",
        "    \"l2_reg\": 1e-4,\n",
        "\n",
        "    \"stop\": {\n",
        "        \"training_iteration\": 500\n",
        "    },\n",
        "}\n",
        "\n",
        "# Convert the dictionary to a SACConfig object\n",
        "config = SACConfig().from_dict(config_dict)\n",
        "# Build an Algorithm object from the config\n",
        "algo = config.build()"
      ],
      "metadata": {
        "colab": {
          "base_uri": "https://localhost:8080/"
        },
        "id": "rpL72ezg3POw",
        "outputId": "111a855a-a525-4228-a53f-7ace549eb4a9"
      },
      "execution_count": 4,
      "outputs": [
        {
          "output_type": "stream",
          "name": "stderr",
          "text": [
            "/usr/local/lib/python3.10/dist-packages/ipykernel/ipkernel.py:283: DeprecationWarning: `should_run_async` will not call `transform_cell` automatically in the future. Please pass the result to `transformed_cell` argument and any exception that happen during thetransform in `preprocessing_exc_tuple` in IPython 7.17 and above.\n",
            "  and should_run_async(code)\n",
            "2023-12-21 17:33:48,184\tWARNING deprecation.py:50 -- DeprecationWarning: `rllib/algorithms/simple_q/` has been deprecated. Use `rllib_contrib/simple_q/` instead. This will raise an error in the future!\n",
            "/usr/local/lib/python3.10/dist-packages/ray/rllib/algorithms/algorithm.py:483: RayDeprecationWarning: This API is deprecated and may be removed in future Ray releases. You could suppress this warning by setting env variable PYTHONWARNINGS=\"ignore::DeprecationWarning\"\n",
            "`UnifiedLogger` will be removed in Ray 2.7.\n",
            "  return UnifiedLogger(config, logdir, loggers=None)\n",
            "/usr/local/lib/python3.10/dist-packages/ray/tune/logger/unified.py:53: RayDeprecationWarning: This API is deprecated and may be removed in future Ray releases. You could suppress this warning by setting env variable PYTHONWARNINGS=\"ignore::DeprecationWarning\"\n",
            "The `JsonLogger interface is deprecated in favor of the `ray.tune.json.JsonLoggerCallback` interface and will be removed in Ray 2.7.\n",
            "  self._loggers.append(cls(self.config, self.logdir, self.trial))\n",
            "/usr/local/lib/python3.10/dist-packages/ray/tune/logger/unified.py:53: RayDeprecationWarning: This API is deprecated and may be removed in future Ray releases. You could suppress this warning by setting env variable PYTHONWARNINGS=\"ignore::DeprecationWarning\"\n",
            "The `CSVLogger interface is deprecated in favor of the `ray.tune.csv.CSVLoggerCallback` interface and will be removed in Ray 2.7.\n",
            "  self._loggers.append(cls(self.config, self.logdir, self.trial))\n",
            "/usr/local/lib/python3.10/dist-packages/ray/tune/logger/unified.py:53: RayDeprecationWarning: This API is deprecated and may be removed in future Ray releases. You could suppress this warning by setting env variable PYTHONWARNINGS=\"ignore::DeprecationWarning\"\n",
            "The `TBXLogger interface is deprecated in favor of the `ray.tune.tensorboardx.TBXLoggerCallback` interface and will be removed in Ray 2.7.\n",
            "  self._loggers.append(cls(self.config, self.logdir, self.trial))\n",
            "2023-12-21 17:33:49,775\tWARNING util.py:62 -- Install gputil for GPU system monitoring.\n"
          ]
        }
      ]
    },
    {
      "cell_type": "code",
      "source": [
        "# Initialize a list to store rewards\n",
        "rewards = []\n",
        "\n",
        "# Run training iterations\n",
        "NUM_ITERATIONS = 100\n",
        "for i in range(NUM_ITERATIONS):\n",
        "    result = algo.train()\n",
        "    rewards.append(result['episode_reward_mean'])\n",
        "\n",
        "    # Print out the key metrics after each iteration\n",
        "    print(f\"Iteration: {i+1}, Mean Reward: {result['episode_reward_mean']}\")\n",
        "\n",
        "\n",
        "# Plotting the rewards\n",
        "plt.plot(rewards)\n",
        "plt.title('Training Rewards Over Time')\n",
        "plt.xlabel('Iteration')\n",
        "plt.ylabel('Mean Reward')\n",
        "plt.show()\n",
        "\n",
        "# Save the trained model\n",
        "checkpoint_path = algo.save(\"/content\")\n",
        "#print(f\"Model checkpoint saved at: {checkpoint_path}\")"
      ],
      "metadata": {
        "colab": {
          "base_uri": "https://localhost:8080/",
          "height": 1000
        },
        "id": "NOFVxmfUdRj1",
        "outputId": "5f8181d2-0393-4d24-cdba-7d928b4d0357"
      },
      "execution_count": 5,
      "outputs": [
        {
          "output_type": "stream",
          "name": "stderr",
          "text": [
            "/usr/local/lib/python3.10/dist-packages/ipykernel/ipkernel.py:283: DeprecationWarning: `should_run_async` will not call `transform_cell` automatically in the future. Please pass the result to `transformed_cell` argument and any exception that happen during thetransform in `preprocessing_exc_tuple` in IPython 7.17 and above.\n",
            "  and should_run_async(code)\n"
          ]
        },
        {
          "output_type": "stream",
          "name": "stdout",
          "text": [
            "Iteration: 1, Mean Reward: 6.0625\n",
            "Iteration: 2, Mean Reward: 6.6\n",
            "Iteration: 3, Mean Reward: 6.235955056179775\n",
            "Iteration: 4, Mean Reward: 6.28\n",
            "Iteration: 5, Mean Reward: 6.3\n",
            "Iteration: 6, Mean Reward: 6.24\n",
            "Iteration: 7, Mean Reward: 6.09\n",
            "Iteration: 8, Mean Reward: 5.69\n"
          ]
        },
        {
          "output_type": "stream",
          "name": "stderr",
          "text": [
            "2023-12-21 17:33:59,775\tWARNING deprecation.py:50 -- DeprecationWarning: `ray.rllib.execution.train_ops.multi_gpu_train_one_step` has been deprecated. This will raise an error in the future!\n"
          ]
        },
        {
          "output_type": "stream",
          "name": "stdout",
          "text": [
            "Iteration: 9, Mean Reward: 5.42\n",
            "Iteration: 10, Mean Reward: 5.64\n",
            "Iteration: 11, Mean Reward: 5.52\n",
            "Iteration: 12, Mean Reward: 5.39\n",
            "Iteration: 13, Mean Reward: 5.36\n",
            "Iteration: 14, Mean Reward: 5.55\n",
            "Iteration: 15, Mean Reward: 6.13\n",
            "Iteration: 16, Mean Reward: 6.87\n",
            "Iteration: 17, Mean Reward: 7.35\n",
            "Iteration: 18, Mean Reward: 8.38\n",
            "Iteration: 19, Mean Reward: 9.06\n",
            "Iteration: 20, Mean Reward: 9.85\n",
            "Iteration: 21, Mean Reward: 10.92\n",
            "Iteration: 22, Mean Reward: 11.56\n",
            "Iteration: 23, Mean Reward: 12.75\n",
            "Iteration: 24, Mean Reward: 13.27\n",
            "Iteration: 25, Mean Reward: 14.53\n",
            "Iteration: 26, Mean Reward: 14.99\n",
            "Iteration: 27, Mean Reward: 16.04\n",
            "Iteration: 28, Mean Reward: 17.17\n",
            "Iteration: 29, Mean Reward: 18.21\n",
            "Iteration: 30, Mean Reward: 19.09\n",
            "Iteration: 31, Mean Reward: 19.09\n",
            "Iteration: 32, Mean Reward: 20.18\n",
            "Iteration: 33, Mean Reward: 21.96\n",
            "Iteration: 34, Mean Reward: 22.8\n",
            "Iteration: 35, Mean Reward: 23.47\n",
            "Iteration: 36, Mean Reward: 24.34\n",
            "Iteration: 37, Mean Reward: 25.52\n",
            "Iteration: 38, Mean Reward: 26.65\n",
            "Iteration: 39, Mean Reward: 27.33\n",
            "Iteration: 40, Mean Reward: 28.54\n",
            "Iteration: 41, Mean Reward: 29.28\n",
            "Iteration: 42, Mean Reward: 30.1\n",
            "Iteration: 43, Mean Reward: 31.16\n",
            "Iteration: 44, Mean Reward: 31.96\n",
            "Iteration: 45, Mean Reward: 32.98\n",
            "Iteration: 46, Mean Reward: 33.83\n",
            "Iteration: 47, Mean Reward: 34.89\n",
            "Iteration: 48, Mean Reward: 35.89\n",
            "Iteration: 49, Mean Reward: 36.9\n",
            "Iteration: 50, Mean Reward: 37.42\n",
            "Iteration: 51, Mean Reward: 38.55\n",
            "Iteration: 52, Mean Reward: 39.2\n",
            "Iteration: 53, Mean Reward: 40.33\n",
            "Iteration: 54, Mean Reward: 41.51\n",
            "Iteration: 55, Mean Reward: 42.34\n",
            "Iteration: 56, Mean Reward: 42.91\n",
            "Iteration: 57, Mean Reward: 44.21\n",
            "Iteration: 58, Mean Reward: 44.75\n",
            "Iteration: 59, Mean Reward: 45.88\n",
            "Iteration: 60, Mean Reward: 46.94\n",
            "Iteration: 61, Mean Reward: 47.48\n",
            "Iteration: 62, Mean Reward: 48.28\n",
            "Iteration: 63, Mean Reward: 49.28\n",
            "Iteration: 64, Mean Reward: 50.4\n",
            "Iteration: 65, Mean Reward: 50.86\n",
            "Iteration: 66, Mean Reward: 52.14\n",
            "Iteration: 67, Mean Reward: 53.15\n",
            "Iteration: 68, Mean Reward: 53.74\n",
            "Iteration: 69, Mean Reward: 54.67\n",
            "Iteration: 70, Mean Reward: 55.66\n",
            "Iteration: 71, Mean Reward: 56.31\n",
            "Iteration: 72, Mean Reward: 57.11\n",
            "Iteration: 73, Mean Reward: 57.95\n",
            "Iteration: 74, Mean Reward: 58.93\n",
            "Iteration: 75, Mean Reward: 59.1\n",
            "Iteration: 76, Mean Reward: 59.27\n",
            "Iteration: 77, Mean Reward: 60.41\n",
            "Iteration: 78, Mean Reward: 60.89\n",
            "Iteration: 79, Mean Reward: 61.38\n",
            "Iteration: 80, Mean Reward: 62.23\n",
            "Iteration: 81, Mean Reward: 62.51\n",
            "Iteration: 82, Mean Reward: 63.01\n",
            "Iteration: 83, Mean Reward: 63.18\n",
            "Iteration: 84, Mean Reward: 63.28\n",
            "Iteration: 85, Mean Reward: 63.77\n",
            "Iteration: 86, Mean Reward: 64.12\n",
            "Iteration: 87, Mean Reward: 64.28\n",
            "Iteration: 88, Mean Reward: 64.43\n",
            "Iteration: 89, Mean Reward: 64.21\n",
            "Iteration: 90, Mean Reward: 64.56\n",
            "Iteration: 91, Mean Reward: 64.6\n",
            "Iteration: 92, Mean Reward: 64.81\n",
            "Iteration: 93, Mean Reward: 64.77\n",
            "Iteration: 94, Mean Reward: 65.02\n",
            "Iteration: 95, Mean Reward: 65.02\n",
            "Iteration: 96, Mean Reward: 66.05\n",
            "Iteration: 97, Mean Reward: 65.56\n",
            "Iteration: 98, Mean Reward: 65.14\n",
            "Iteration: 99, Mean Reward: 64.99\n",
            "Iteration: 100, Mean Reward: 65.08\n"
          ]
        },
        {
          "output_type": "display_data",
          "data": {
            "text/plain": [
              "<Figure size 640x480 with 1 Axes>"
            ],
            "image/png": "[encoded data removed]"
          },
          "metadata": {}
        }
      ]
    },
    {
      "cell_type": "code",
      "execution_count": 6,
      "metadata": {
        "id": "qlBjTfBngmWx",
        "colab": {
          "base_uri": "https://localhost:8080/"
        },
        "outputId": "64f1a937-ad64-4f6a-897c-a4a06f0c2f8d"
      },
      "outputs": [
        {
          "output_type": "stream",
          "name": "stdout",
          "text": [
            "Reading package lists... Done\n",
            "Building dependency tree... Done\n",
            "Reading state information... Done\n",
            "xvfb is already the newest version (2:21.1.4-2ubuntu1.7~22.04.5).\n",
            "0 upgraded, 0 newly installed, 0 to remove and 24 not upgraded.\n"
          ]
        }
      ],
      "source": [
        "!apt-get install xvfb"
      ]
    },
    {
      "cell_type": "code",
      "source": [
        "!pip install pyvirtualdisplay"
      ],
      "metadata": {
        "id": "QeU9Xbpbo0LK",
        "colab": {
          "base_uri": "https://localhost:8080/"
        },
        "outputId": "432a6226-a63b-4d61-a934-7fe5a7c2fe06"
      },
      "execution_count": 7,
      "outputs": [
        {
          "output_type": "stream",
          "name": "stdout",
          "text": [
            "Requirement already satisfied: pyvirtualdisplay in /usr/local/lib/python3.10/dist-packages (3.0)\n"
          ]
        }
      ]
    },
    {
      "cell_type": "code",
      "execution_count": 8,
      "metadata": {
        "id": "566GQSo2fLZp",
        "colab": {
          "base_uri": "https://localhost:8080/"
        },
        "outputId": "97f00478-8a3e-442d-9d0d-cbfb0867711c"
      },
      "outputs": [
        {
          "output_type": "execute_result",
          "data": {
            "text/plain": [
              "<pyvirtualdisplay.display.Display at 0x7d535a2c70a0>"
            ]
          },
          "metadata": {},
          "execution_count": 8
        }
      ],
      "source": [
        "from pyvirtualdisplay import Display\n",
        "\n",
        "# Create a virtual display\n",
        "virtual_display = Display(visible=0, size=(1400, 900))\n",
        "virtual_display.start()\n"
      ]
    },
    {
      "cell_type": "code",
      "execution_count": 9,
      "metadata": {
        "id": "VSppwCN6gunv",
        "colab": {
          "base_uri": "https://localhost:8080/"
        },
        "outputId": "87ba1169-10a1-413f-9a34-673248cd0c4b"
      },
      "outputs": [
        {
          "output_type": "stream",
          "name": "stderr",
          "text": [
            "/usr/local/lib/python3.10/dist-packages/ipykernel/ipkernel.py:283: DeprecationWarning: `should_run_async` will not call `transform_cell` automatically in the future. Please pass the result to `transformed_cell` argument and any exception that happen during thetransform in `preprocessing_exc_tuple` in IPython 7.17 and above.\n",
            "  and should_run_async(code)\n",
            "2023-12-21 17:50:00,165\tINFO worker.py:1724 -- Started a local Ray instance.\n",
            "2023-12-21 17:50:03,545\tINFO trainable.py:585 -- Restored on 172.28.0.12 from checkpoint: Checkpoint(filesystem=local, path=/content)\n",
            "/usr/local/lib/python3.10/dist-packages/gym/core.py:317: DeprecationWarning: \u001b[33mWARN: Initializing wrapper in old step API which returns one bool instead of two. It is recommended to set `new_step_api=True` to use new step API. This will be the default behaviour in future.\u001b[0m\n",
            "  deprecation(\n",
            "/usr/local/lib/python3.10/dist-packages/gym/wrappers/step_api_compatibility.py:39: DeprecationWarning: \u001b[33mWARN: Initializing environment in old step API which returns one bool instead of two. It is recommended to set `new_step_api=True` to use new step API. This will be the default behaviour in future.\u001b[0m\n",
            "  deprecation(\n",
            "/usr/local/lib/python3.10/dist-packages/gym/core.py:43: DeprecationWarning: \u001b[33mWARN: The argument mode in render method is deprecated; use render_mode during environment initialization instead.\n",
            "See here for more information: https://www.gymlibrary.ml/content/api/\u001b[0m\n",
            "  deprecation(\n"
          ]
        },
        {
          "output_type": "execute_result",
          "data": {
            "text/plain": [
              "<pyvirtualdisplay.display.Display at 0x7d535a2c70a0>"
            ]
          },
          "metadata": {},
          "execution_count": 9
        }
      ],
      "source": [
        "import gym\n",
        "import cv2\n",
        "\n",
        "\n",
        "# Load the trained model for testing\n",
        "algo.restore(checkpoint_path)\n",
        "# Initialize the environment\n",
        "env = gym.make(\"InvertedPendulum-v4\")\n",
        "\n",
        "# Setup video writer\n",
        "fourcc = cv2.VideoWriter_fourcc(*'XVID')\n",
        "out = cv2.VideoWriter('InvertedPendulum-v4_output.avi', fourcc, 20.0, (500, 500))\n",
        "\n",
        "# Test the agent\n",
        "state = env.reset()\n",
        "for _ in range(100):\n",
        "    action = algo.compute_single_action(state)\n",
        "    next_state, _, _, _ = env.step(action)\n",
        "    frame = env.render(mode='rgb_array')\n",
        "    frame_resized = cv2.resize(frame, (500, 500))\n",
        "    out.write(cv2.cvtColor(frame_resized, cv2.COLOR_RGB2BGR))\n",
        "    state = next_state\n",
        "\n",
        "# Clean up\n",
        "env.close()\n",
        "out.release()\n",
        "\n",
        "# Close the virtual display\n",
        "virtual_display.stop()"
      ]
    }
  ],
  "metadata": {
    "colab": {
      "provenance": []
    },
    "kernelspec": {
      "display_name": "Python 3",
      "name": "python3"
    },
    "language_info": {
      "name": "python"
    }
  },
  "nbformat": 4,
  "nbformat_minor": 0
}